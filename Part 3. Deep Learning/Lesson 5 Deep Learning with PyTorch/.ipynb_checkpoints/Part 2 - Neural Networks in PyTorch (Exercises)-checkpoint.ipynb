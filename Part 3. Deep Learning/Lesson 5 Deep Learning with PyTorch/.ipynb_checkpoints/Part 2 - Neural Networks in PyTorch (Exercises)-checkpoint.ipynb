{
 "cells": [
  {
   "cell_type": "markdown",
   "metadata": {},
   "source": [
    "# Neural networks with PyTorch\n",
    "\n",
    "Deep learning networks tend to be massive with dozens or hundreds of layers, that's where the term \"deep\" comes from. You can build one of these deep networks using only weight matrices as we did in the previous notebook, but in general it's very cumbersome and difficult to implement. PyTorch has a nice module `nn` that provides a nice way to efficiently build large neural networks."
   ]
  },
  {
   "cell_type": "code",
   "execution_count": 1,
   "metadata": {},
   "outputs": [],
   "source": [
    "# Import necessary packages\n",
    "\n",
    "%matplotlib inline\n",
    "%config InlineBackend.figure_format = 'retina'\n",
    "\n",
    "import numpy as np\n",
    "import torch\n",
    "\n",
    "import helper\n",
    "\n",
    "import matplotlib.pyplot as plt"
   ]
  },
  {
   "cell_type": "markdown",
   "metadata": {},
   "source": [
    "\n",
    "Now we're going to build a larger network that can solve a (formerly) difficult problem, identifying text in an image. Here we'll use the MNIST dataset which consists of greyscale handwritten digits. Each image is 28x28 pixels, you can see a sample below\n",
    "\n",
    "<img src='assets/mnist.png'>\n",
    "\n",
    "Our goal is to build a neural network that can take one of these images and predict the digit in the image.\n",
    "\n",
    "First up, we need to get our dataset. This is provided through the `torchvision` package. The code below will download the MNIST dataset, then create training and test datasets for us. Don't worry too much about the details here, you'll learn more about this later."
   ]
  },
  {
   "cell_type": "code",
   "execution_count": 2,
   "metadata": {},
   "outputs": [
    {
     "name": "stderr",
     "output_type": "stream",
     "text": [
      "\r",
      "0it [00:00, ?it/s]"
     ]
    },
    {
     "name": "stdout",
     "output_type": "stream",
     "text": [
      "Downloading http://yann.lecun.com/exdb/mnist/train-images-idx3-ubyte.gz to /Users/hyeukjung/.pytorch/MNIST_data/MNIST/raw/train-images-idx3-ubyte.gz\n"
     ]
    },
    {
     "name": "stderr",
     "output_type": "stream",
     "text": [
      "9920512it [00:01, 5842598.56it/s]                             \n"
     ]
    },
    {
     "name": "stdout",
     "output_type": "stream",
     "text": [
      "Extracting /Users/hyeukjung/.pytorch/MNIST_data/MNIST/raw/train-images-idx3-ubyte.gz\n"
     ]
    },
    {
     "name": "stderr",
     "output_type": "stream",
     "text": [
      "  0%|          | 0/28881 [00:00<?, ?it/s]"
     ]
    },
    {
     "name": "stdout",
     "output_type": "stream",
     "text": [
      "Downloading http://yann.lecun.com/exdb/mnist/train-labels-idx1-ubyte.gz to /Users/hyeukjung/.pytorch/MNIST_data/MNIST/raw/train-labels-idx1-ubyte.gz\n"
     ]
    },
    {
     "name": "stderr",
     "output_type": "stream",
     "text": [
      "32768it [00:00, 119991.58it/s]           \n",
      "  0%|          | 0/1648877 [00:00<?, ?it/s]"
     ]
    },
    {
     "name": "stdout",
     "output_type": "stream",
     "text": [
      "Extracting /Users/hyeukjung/.pytorch/MNIST_data/MNIST/raw/train-labels-idx1-ubyte.gz\n",
      "Downloading http://yann.lecun.com/exdb/mnist/t10k-images-idx3-ubyte.gz to /Users/hyeukjung/.pytorch/MNIST_data/MNIST/raw/t10k-images-idx3-ubyte.gz\n"
     ]
    },
    {
     "name": "stderr",
     "output_type": "stream",
     "text": [
      "1654784it [00:00, 1785257.54it/s]                            \n",
      "0it [00:00, ?it/s]"
     ]
    },
    {
     "name": "stdout",
     "output_type": "stream",
     "text": [
      "Extracting /Users/hyeukjung/.pytorch/MNIST_data/MNIST/raw/t10k-images-idx3-ubyte.gz\n",
      "Downloading http://yann.lecun.com/exdb/mnist/t10k-labels-idx1-ubyte.gz to /Users/hyeukjung/.pytorch/MNIST_data/MNIST/raw/t10k-labels-idx1-ubyte.gz\n"
     ]
    },
    {
     "name": "stderr",
     "output_type": "stream",
     "text": [
      "8192it [00:00, 45813.23it/s]            \n"
     ]
    },
    {
     "name": "stdout",
     "output_type": "stream",
     "text": [
      "Extracting /Users/hyeukjung/.pytorch/MNIST_data/MNIST/raw/t10k-labels-idx1-ubyte.gz\n",
      "Processing...\n",
      "Done!\n"
     ]
    }
   ],
   "source": [
    "### Run this cell\n",
    "\n",
    "from torchvision import datasets, transforms\n",
    "\n",
    "# Define a transform to normalize the data\n",
    "transform = transforms.Compose([transforms.ToTensor(),\n",
    "                                transforms.Normalize((0.5,), (0.5,)),\n",
    "                               ])\n",
    "\n",
    "# Download and load the training data\n",
    "trainset = datasets.MNIST('~/.pytorch/MNIST_data/', download=True, train=True, transform=transform)\n",
    "trainloader = torch.utils.data.DataLoader(trainset, batch_size=64, shuffle=True)"
   ]
  },
  {
   "cell_type": "markdown",
   "metadata": {},
   "source": [
    "We have the training data loaded into `trainloader` and we make that an iterator with `iter(trainloader)`. Later, we'll use this to loop through the dataset for training, like\n",
    "\n",
    "```python\n",
    "for image, label in trainloader:\n",
    "    ## do things with images and labels\n",
    "```\n",
    "\n",
    "You'll notice I created the `trainloader` with a batch size of 64, and `shuffle=True`. The batch size is the number of images we get in one iteration from the data loader and pass through our network, often called a *batch*. And `shuffle=True` tells it to shuffle the dataset every time we start going through the data loader again. But here I'm just grabbing the first batch so we can check out the data. We can see below that `images` is just a tensor with size `(64, 1, 28, 28)`. So, 64 images per batch, 1 color channel, and 28x28 images."
   ]
  },
  {
   "cell_type": "code",
   "execution_count": 3,
   "metadata": {},
   "outputs": [
    {
     "name": "stdout",
     "output_type": "stream",
     "text": [
      "<class 'torch.Tensor'>\n",
      "torch.Size([64, 1, 28, 28])\n",
      "torch.Size([64])\n"
     ]
    }
   ],
   "source": [
    "dataiter = iter(trainloader)\n",
    "images, labels = dataiter.next()\n",
    "print(type(images))\n",
    "print(images.shape)\n",
    "print(labels.shape)"
   ]
  },
  {
   "cell_type": "markdown",
   "metadata": {},
   "source": [
    "This is what one of the images looks like. "
   ]
  },
  {
   "cell_type": "code",
   "execution_count": 4,
   "metadata": {},
   "outputs": [
    {
     "data": {
      "image/png": "[encoded data removed]",
      "text/plain": [
       "<Figure size 432x288 with 1 Axes>"
      ]
     },
     "metadata": {
      "image/png": {
       "height": 250,
       "width": 253
      },
      "needs_background": "light"
     },
     "output_type": "display_data"
    }
   ],
   "source": [
    "plt.imshow(images[1].numpy().squeeze(), cmap='Greys_r');"
   ]
  },
  {
   "cell_type": "markdown",
   "metadata": {},
   "source": [
    "First, let's try to build a simple network for this dataset using weight matrices and matrix multiplications. Then, we'll see how to do it using PyTorch's `nn` module which provides a much more convenient and powerful method for defining network architectures.\n",
    "\n",
    "The networks you've seen so far are called ***fully-connected* or *dense* networks**. Each unit in one layer is connected to each unit in the next layer. In fully-connected networks, the input to each layer must be a one-dimensional vector (which can be stacked into a 2D tensor as a batch of multiple examples). However, our images are 28x28 2D tensors, so we need to convert them into 1D vectors. Thinking about sizes, we need to convert the batch of images with shape `(64, 1, 28, 28)` to a have a shape of `(64, 784)`, 784 is 28 times 28. This is typically called *flattening*, we flattened the 2D images into 1D vectors.\n",
    "\n",
    "Previously you built a network with one output unit. Here we need 10 output units, one for each digit. We want our network to predict the digit shown in an image, so what we'll do is **calculate probabilities that the image is of any one digit or class**. This ends up being a discrete probability distribution over the classes (digits) that tells us the most likely class for the image. That means we need 10 output units for the 10 classes (digits). We'll see how to convert the network output into a probability distribution next.\n",
    "\n",
    "> **Exercise:** Flatten the batch of images `images`. Then build a multi-layer network with 784 input units, 256 hidden units, and 10 output units using random tensors for the weights and biases. For now, use a sigmoid activation for the hidden layer. Leave the output layer without an activation, we'll add one that gives us a probability distribution next."
   ]
  },
  {
   "cell_type": "code",
   "execution_count": 8,
   "metadata": {},
   "outputs": [
    {
     "name": "stdout",
     "output_type": "stream",
     "text": [
      "torch.Size([64, 784])\n",
      "tensor([[ 1.3269e+00,  1.1968e-01, -5.4284e+00,  6.2788e+00,  8.2863e+00,\n",
      "          9.2722e+00, -3.2149e-01, -4.7601e+00,  3.7672e+00, -7.6965e+00],\n",
      "        [ 1.1600e+01,  6.6022e+00, -9.3482e+00,  3.0936e+00,  8.7739e+00,\n",
      "          1.7393e+01, -6.5305e+00,  3.8808e+00,  6.9898e+00,  2.6596e+00],\n",
      "        [ 8.1197e+00, -5.3562e+00, -1.2547e+01,  1.0946e+01,  2.5322e+01,\n",
      "          4.7969e+00,  7.9578e+00,  3.4938e+00,  4.4672e+00,  3.5654e+00],\n",
      "        [-3.5976e+00, -4.0168e+00,  2.3687e-01,  1.8180e+01,  1.4652e+01,\n",
      "          5.4692e+00,  7.5990e+00, -7.2099e-01, -4.9255e+00, -3.5506e+00],\n",
      "        [ 1.5546e+01, -7.4720e+00, -5.0243e+00,  9.8903e+00,  2.0821e+01,\n",
      "         -4.2321e+00,  8.4081e+00,  4.6371e+00,  5.0240e+00,  8.3922e+00],\n",
      "        [ 5.4780e+00, -4.8282e+00, -1.8279e+01,  9.6272e+00,  1.9377e+01,\n",
      "          1.6193e+01,  6.1711e+00, -6.2982e+00,  2.3471e+00, -8.0073e+00],\n",
      "        [ 1.1921e+01,  6.2035e+00, -9.9428e+00,  7.7729e+00,  1.5944e+01,\n",
      "          4.4697e+00,  2.1855e+00,  4.0671e+00,  1.3238e+01,  1.6158e+00],\n",
      "        [ 9.7181e+00,  1.1653e+01,  5.3112e+00,  7.9831e+00,  1.0732e+01,\n",
      "          3.6018e+00,  8.5048e+00,  4.3051e-01,  5.2092e-01,  8.3310e+00],\n",
      "        [ 3.1134e+00, -1.0454e+01, -4.5068e+00,  1.1964e+01,  1.3358e+01,\n",
      "          1.5154e+01,  1.6205e+00, -8.8409e+00,  7.0443e-01, -7.0171e+00],\n",
      "        [ 5.5384e+00,  4.2398e+00, -7.2803e+00,  1.3114e+01,  1.3822e+01,\n",
      "          6.6024e+00,  1.1450e+01,  3.4671e+00,  7.1969e+00, -1.3147e+00],\n",
      "        [ 7.0385e+00, -6.8946e-02, -4.6802e+00,  3.8202e+00,  1.4133e+01,\n",
      "          4.9418e+00,  2.0845e+00, -3.5313e+00,  1.2181e+01, -1.2261e+01],\n",
      "        [ 5.2221e+00, -1.0211e+00, -1.3558e+00,  1.1872e+01,  1.2295e+01,\n",
      "          3.0781e+00,  1.0724e+01, -5.5297e+00,  1.5779e+01,  1.1176e+00],\n",
      "        [ 1.8167e+00,  2.2400e-01, -8.9532e+00,  1.1322e+01,  1.4744e+01,\n",
      "          3.9634e+00,  9.0811e+00, -2.6882e+00,  2.5302e+00,  2.0948e+00],\n",
      "        [ 2.1919e+00, -9.4410e+00, -5.1844e+00,  6.7439e+00,  1.0751e+01,\n",
      "          9.3259e+00,  6.9301e-01,  4.1033e+00,  6.4555e+00, -4.8778e+00],\n",
      "        [ 9.6846e+00,  2.7178e+00, -1.0696e+01,  4.6711e+00,  1.5137e+01,\n",
      "          1.5563e+01,  1.4946e+00,  2.8322e+00,  1.3024e+01, -2.3095e-02],\n",
      "        [ 8.4913e+00, -2.8778e-01, -5.4488e+00,  1.3257e+01,  4.7886e+00,\n",
      "          3.8932e+00,  8.8295e+00, -1.1939e+00,  6.8593e+00,  3.0175e-01],\n",
      "        [ 6.0437e-02,  9.4472e+00, -6.6838e+00,  8.2020e+00,  1.3759e+01,\n",
      "          1.5293e+01, -1.0977e+01,  1.1553e+01,  7.7643e+00, -6.7720e+00],\n",
      "        [ 4.6227e+00, -3.9445e+00, -6.1538e-01,  8.2458e+00,  1.0359e+01,\n",
      "         -2.2205e+00, -9.2679e+00, -5.2383e+00,  1.1193e+00, -9.2189e+00],\n",
      "        [ 6.5148e+00, -3.0768e+00, -6.7340e+00,  1.6232e+01,  6.8133e+00,\n",
      "          4.7964e+00,  7.0322e+00,  5.8747e-01,  1.1410e+01,  3.6308e+00],\n",
      "        [ 8.2591e+00, -5.2650e+00, -1.9553e+01,  1.1864e+01,  1.3832e+01,\n",
      "          4.9262e+00,  3.5426e+00,  1.2308e+00,  6.9535e+00, -3.2784e+00],\n",
      "        [ 8.8107e+00, -6.3212e+00, -5.9982e+00, -3.0824e+00,  1.7893e+01,\n",
      "          7.9208e+00, -5.8627e+00, -1.2175e+00,  5.8826e+00, -2.4700e-02],\n",
      "        [ 1.0133e+01,  6.7465e+00,  5.7960e-01,  1.1918e+01,  1.8485e+01,\n",
      "          1.2164e+01,  9.7960e+00,  4.6699e-01,  1.1429e+01, -2.1867e+00],\n",
      "        [ 1.5377e+01, -2.2785e+00, -5.4494e+00,  7.0844e+00,  1.9496e+01,\n",
      "          1.4410e+00,  2.2649e+00, -7.2493e+00,  2.7774e+00,  1.3958e+01],\n",
      "        [ 1.5422e+01,  6.4718e+00, -8.3777e+00,  4.7867e+00,  9.2748e+00,\n",
      "          1.0933e+01,  1.0243e+01,  5.2477e+00,  3.2759e+00,  1.2032e+01],\n",
      "        [ 9.0897e+00,  4.2830e+00,  1.9542e+00,  1.1065e+01,  1.6065e+01,\n",
      "          7.5025e+00,  3.9434e+00,  5.2631e+00,  2.2014e+00, -8.7902e-02],\n",
      "        [ 1.4672e+00, -1.1682e+01, -9.6615e+00,  1.1148e+01,  1.5415e+01,\n",
      "          7.3011e+00,  9.5860e+00,  1.7179e+00, -1.8077e+00,  1.0855e+00],\n",
      "        [ 8.8362e+00,  1.1861e+01, -1.5091e+00,  1.3192e+01,  2.1084e+01,\n",
      "          7.1422e+00,  1.2400e+01,  1.8529e-01,  5.4320e+00, -6.9071e+00],\n",
      "        [ 9.0033e+00, -2.1307e+00, -9.2465e+00,  2.7403e+00,  1.7890e+01,\n",
      "          9.7467e+00,  1.2373e+01, -2.8266e-02,  6.4685e+00,  4.6049e-01],\n",
      "        [ 8.4261e+00, -4.7598e+00,  3.5033e-03,  1.4449e+01,  4.6574e+00,\n",
      "          1.2605e+01, -8.0410e+00, -1.0291e+00,  6.4922e+00, -3.5213e+00],\n",
      "        [ 1.2545e+01,  6.4671e+00, -8.2485e+00,  8.5208e-01,  1.3729e+01,\n",
      "          1.8835e+01, -3.0677e+00,  5.1917e+00,  9.8376e+00, -7.2498e+00],\n",
      "        [ 3.0641e+00, -1.3115e+00, -6.1646e+00,  1.0857e+01,  1.6751e+01,\n",
      "          1.0004e+01,  6.3048e+00, -2.9273e+00,  2.1439e+00, -4.1359e+00],\n",
      "        [ 1.1691e+01, -5.8226e+00, -1.0886e+01,  1.6192e+01,  2.0095e+01,\n",
      "          1.6308e+01,  6.2546e+00,  5.5754e+00, -6.9847e-01, -5.9554e+00],\n",
      "        [ 8.4747e+00, -8.1409e+00, -9.7138e+00,  4.4006e+00,  1.6092e+01,\n",
      "          7.4856e+00,  7.3561e+00, -1.5319e+00,  9.3067e+00,  4.8275e+00],\n",
      "        [-7.2933e+00,  2.2603e+00, -3.6605e+00,  8.9439e+00,  6.9534e+00,\n",
      "          1.4083e+01,  5.3946e+00,  6.7333e-01,  4.6553e+00, -1.0639e+01],\n",
      "        [ 5.7024e+00,  1.2293e+00, -6.7580e+00,  8.8334e+00,  1.0375e+01,\n",
      "          1.1680e+01,  2.1833e+00,  5.2130e+00,  1.4112e+01, -4.2081e-01],\n",
      "        [ 1.1667e+01,  3.3392e+00, -4.5709e+00,  2.4636e+00,  2.1748e+01,\n",
      "          1.8143e+01,  7.1264e+00,  3.5257e+00,  6.4215e+00,  1.0480e+01],\n",
      "        [ 6.3001e+00, -8.8347e-01, -1.3170e+01,  1.2247e+01,  1.0534e+01,\n",
      "          1.7439e+01, -2.1967e+00,  6.3884e+00,  1.2341e+01, -3.9705e+00],\n",
      "        [ 9.6633e+00, -1.0265e+01, -1.0933e+01,  1.5193e+01,  2.0021e+01,\n",
      "          1.5451e+01,  3.7946e+00, -3.8826e-01,  2.7942e+00, -3.5613e+00],\n",
      "        [ 1.5200e+01,  7.1024e+00,  5.7497e-01, -3.5723e+00,  1.7125e+01,\n",
      "          6.6801e+00,  1.7958e+01,  1.8459e+00,  1.3265e+01,  8.3283e-01],\n",
      "        [ 1.0964e+01, -5.6135e+00, -1.0960e+01,  9.9613e+00,  1.7277e+01,\n",
      "          1.0872e+01,  8.8267e+00,  4.7601e+00,  1.6535e+00,  3.1353e+00],\n",
      "        [ 5.9670e+00,  5.2030e-01, -1.2215e+01,  1.1858e+01,  1.4907e+01,\n",
      "          1.8558e+01,  3.7722e+00,  1.2252e+01,  1.3878e+01, -9.8193e-01],\n",
      "        [ 1.4934e+01, -9.3004e+00, -2.3778e+00,  1.2533e+01,  1.3523e+01,\n",
      "          1.8295e+01,  1.3484e+01, -7.7656e-01,  1.3657e+01,  7.1037e+00],\n",
      "        [ 1.9030e+01, -5.9626e+00, -5.5694e+00,  9.1589e+00,  7.1729e+00,\n",
      "          1.1365e+01,  1.3538e+01, -2.1607e+00,  9.7362e+00,  5.8204e+00],\n",
      "        [ 1.0919e+01, -1.1418e+00, -9.0730e+00,  1.9221e+01,  1.6425e+01,\n",
      "          1.0247e+01,  6.9393e+00, -1.2872e+00,  9.7611e+00, -8.3438e+00],\n",
      "        [ 3.5064e+00, -1.1275e+00, -1.2321e+01,  6.7634e+00,  1.2666e+01,\n",
      "          8.4898e+00, -2.4115e+00, -4.5173e+00,  6.9817e+00, -5.8631e+00],\n",
      "        [ 1.2382e+01,  5.1726e+00, -9.8665e+00,  1.0106e+01,  1.9493e+01,\n",
      "          6.8367e+00,  7.7008e+00, -2.6597e+00,  1.2829e+01,  2.4758e+00],\n",
      "        [ 2.7816e+00, -4.4999e+00, -2.3409e+00,  1.3499e+01,  1.0087e+01,\n",
      "          1.0759e+01,  9.8790e+00,  5.5572e-01,  3.7424e+00,  7.2058e+00],\n",
      "        [-3.5794e-01, -3.1042e+00, -7.8928e+00,  1.5007e+01,  2.0538e+01,\n",
      "          5.5032e+00, -4.4463e+00, -7.1965e+00,  5.9341e+00, -1.4306e+01],\n",
      "        [ 1.0893e+01, -5.7186e+00, -3.8591e+00,  1.7377e+00,  1.0988e+01,\n",
      "          1.2829e+01,  2.9724e+00,  1.3130e+00,  9.3712e+00,  8.6659e-01],\n",
      "        [ 7.5301e+00,  4.1546e+00, -7.0867e+00,  1.5580e+01,  1.0006e+01,\n",
      "          8.0069e+00, -6.3700e+00, -4.3815e+00,  5.8287e+00, -5.1023e+00],\n",
      "        [ 1.8135e+01, -2.2350e+00, -8.1648e+00,  1.0829e+01,  1.2718e+01,\n",
      "          4.3106e+00,  9.6328e+00, -2.1892e-01,  2.8735e+00, -2.1023e+00],\n",
      "        [-5.7457e-01, -2.9744e+00, -1.1317e+01,  1.1976e+01,  1.3704e+01,\n",
      "          1.1436e+00, -2.9957e+00,  8.8912e-01,  5.1596e+00, -4.9666e+00],\n",
      "        [ 8.8563e+00, -3.2004e-01, -9.1516e+00, -3.7878e+00,  1.9595e+01,\n",
      "          9.7715e+00,  7.0532e+00, -9.6846e-01,  9.5286e+00, -2.7830e+00],\n",
      "        [ 7.2804e+00, -5.6760e+00, -1.5144e+01,  1.2099e+01,  6.1550e+00,\n",
      "          1.9642e+01,  2.3254e+00, -2.8796e+00, -1.5204e+00, -5.8076e+00],\n",
      "        [ 6.3511e+00, -8.0294e+00, -8.1464e+00,  1.6115e+01,  8.7933e+00,\n",
      "          1.5754e+01, -9.6611e+00, -1.1084e+00, -2.1302e+00, -1.1711e+01],\n",
      "        [ 8.3862e+00,  2.2424e+00,  2.4766e+00,  1.3726e+00,  9.7492e+00,\n",
      "          7.6849e+00, -3.4347e+00, -4.2437e+00,  1.9499e-01,  8.2075e+00],\n",
      "        [ 1.1326e+01, -2.8639e+00, -4.7695e+00,  4.5495e+00,  1.3186e+01,\n",
      "          1.9560e+01,  6.5752e+00,  2.5115e+00,  1.3528e+01,  3.1399e+00],\n",
      "        [ 3.6576e+00, -6.7660e-02, -8.5600e+00,  1.3958e+01,  1.5646e+01,\n",
      "          4.0716e+00, -1.8108e+00, -5.8320e+00,  1.1036e+01, -3.9095e+00],\n",
      "        [ 9.8257e+00, -1.2186e+00, -1.0510e+01,  1.1332e+01,  1.9225e+01,\n",
      "         -6.5714e+00,  1.4280e+01, -3.5411e-01,  8.5131e+00, -1.5798e+01],\n",
      "        [ 1.8341e+00, -6.4990e+00, -4.9913e+00,  9.3688e+00,  1.1955e+01,\n",
      "          2.4783e+00,  3.7248e+00, -4.3657e+00,  3.4464e+00, -3.7296e+00],\n",
      "        [ 7.8625e+00,  6.3507e+00, -8.1501e+00, -5.8402e-01,  1.4954e+01,\n",
      "          1.4876e+01,  4.7457e+00, -3.0481e-01, -1.2750e+00, -4.0849e+00],\n",
      "        [ 6.0213e+00, -6.8113e+00, -8.2375e+00,  1.2831e+01,  6.1110e+00,\n",
      "          1.7585e+01,  4.9859e-01,  1.1310e+01,  1.1206e+01, -4.2948e+00],\n",
      "        [ 1.0145e+01,  4.0176e+00, -8.7980e+00,  5.7161e+00,  1.6129e+01,\n",
      "          1.6587e+01,  5.8615e+00,  3.1737e+00,  1.3938e+01,  5.1559e+00],\n",
      "        [ 5.0508e+00, -7.4393e-01, -6.8620e+00,  3.9922e+00,  1.1826e+01,\n",
      "          7.5806e+00, -2.2996e+00, -2.5301e+00,  2.1056e+00, -1.1778e+01]])\n"
     ]
    }
   ],
   "source": [
    "## Your solution\n",
    "def activation(x):\n",
    "    return 1/(1+torch.exp(-x))\n",
    "\n",
    "# Flatten the batch of images as input(64*784)\n",
    "inputs = images.view(images.shape[0], -1) # From solution: -1 for the column..? why?\n",
    "### -1 chooses an appropiate size to get the total number of elements\n",
    "print(inputs.shape)\n",
    "\n",
    "# Build a multi-layer network with 784 input units and 256 hidden units --> w1(784*256) and b1(256)\n",
    "# Then 256 hidden units and 10 output units --> w2(256*10) and b2 (10)\n",
    "w1 = torch.randn(784, 256)\n",
    "b1 = torch.randn(256)\n",
    "w2 = torch.randn(256, 10)\n",
    "b2 = torch.randn(10)\n",
    "\n",
    "# get h (64*256) -> out = f(h) (64*10)\n",
    "h = activation(torch.mm(inputs, w1) + b1) \n",
    "out = torch.mm(h, w2) + b2 # output of your network, should have shape (64,10)\n",
    "print(out)\n"
   ]
  },
  {
   "cell_type": "markdown",
   "metadata": {},
   "source": [
    "Now we have 10 outputs for our network. We want to pass in an image to our network and get out a probability distribution over the classes that tells us the likely class(es) the image belongs to. Something that looks like this:\n",
    "<img src='assets/image_distribution.png' width=500px>\n",
    "\n",
    "Here we see that the probability for each class is roughly the same. This is representing an untrained network, it hasn't seen any data yet so it just returns a uniform distribution with equal probabilities for each class.\n",
    "\n",
    "To calculate this probability distribution, we often use the [**softmax** function](https://en.wikipedia.org/wiki/Softmax_function). Mathematically this looks like\n",
    "\n",
    "$$\n",
    "\\Large \\sigma(x_i) = \\cfrac{e^{x_i}}{\\sum_k^K{e^{x_k}}}\n",
    "$$\n",
    "\n",
    "What this does is squish each input $x_i$ between 0 and 1 and normalizes the values to give you a proper probability distribution where the probabilites sum up to one.\n",
    "\n",
    "> **Exercise:** Implement a function `softmax` that performs the softmax calculation and returns probability distributions for each example in the batch. Note that you'll need to pay attention to the shapes when doing this. If you have a tensor `a` with shape `(64, 10)` and a tensor `b` with shape `(64,)`, doing `a/b` will give you an error because PyTorch will try to do the division across the columns (called broadcasting) but you'll get a size mismatch. The way to think about this is for each of the 64 examples, you only want to divide by one value, the sum in the denominator. So you need `b` to have a shape of `(64, 1)`. This way PyTorch will divide the 10 values in each row of `a` by the one value in each row of `b`. Pay attention to how you take the sum as well. You'll need to define the `dim` keyword in `torch.sum`. Setting `dim=0` takes the sum across the rows while `dim=1` takes the sum across the columns."
   ]
  },
  {
   "cell_type": "code",
   "execution_count": 10,
   "metadata": {},
   "outputs": [
    {
     "name": "stdout",
     "output_type": "stream",
     "text": [
      "torch.Size([64, 10])\n",
      "tensor([1.0000, 1.0000, 1.0000, 1.0000, 1.0000, 1.0000, 1.0000, 1.0000, 1.0000,\n",
      "        1.0000, 1.0000, 1.0000, 1.0000, 1.0000, 1.0000, 1.0000, 1.0000, 1.0000,\n",
      "        1.0000, 1.0000, 1.0000, 1.0000, 1.0000, 1.0000, 1.0000, 1.0000, 1.0000,\n",
      "        1.0000, 1.0000, 1.0000, 1.0000, 1.0000, 1.0000, 1.0000, 1.0000, 1.0000,\n",
      "        1.0000, 1.0000, 1.0000, 1.0000, 1.0000, 1.0000, 1.0000, 1.0000, 1.0000,\n",
      "        1.0000, 1.0000, 1.0000, 1.0000, 1.0000, 1.0000, 1.0000, 1.0000, 1.0000,\n",
      "        1.0000, 1.0000, 1.0000, 1.0000, 1.0000, 1.0000, 1.0000, 1.0000, 1.0000,\n",
      "        1.0000])\n"
     ]
    }
   ],
   "source": [
    "def softmax(x):\n",
    "    ## TODO: Implement the softmax function here\n",
    "    # torch.exp(x): 64*10 \n",
    "    # torch.sum(torch.exp(x), dim = 1): gives the vector of 64 --> reshape into 64*1 (view(-1, 1))\n",
    "    return torch.exp(x) / torch.sum(torch.exp(x), dim = 1).view(-1, 1)\n",
    "\n",
    "#dim = 0; RuntimeError: The size of tensor a (64) must match the size of tensor b (10) at non-singleton dimension 0\n",
    "\n",
    "# Here, out should be the output of the network in the previous excercise with shape (64,10)\n",
    "probabilities = softmax(out)\n",
    "\n",
    "# Does it have the right shape? Should be (64, 10)\n",
    "print(probabilities.shape)\n",
    "# Does it sum to 1?\n",
    "print(probabilities.sum(dim=1))"
   ]
  },
  {
   "cell_type": "markdown",
   "metadata": {},
   "source": [
    "## Building networks with PyTorch\n",
    "\n",
    "PyTorch provides a module `nn` that makes building networks much simpler. Here I'll show you how to build the same one as above with 784 inputs, 256 hidden units, 10 output units and a softmax output."
   ]
  },
  {
   "cell_type": "code",
   "execution_count": 11,
   "metadata": {},
   "outputs": [],
   "source": [
    "from torch import nn"
   ]
  },
  {
   "cell_type": "code",
   "execution_count": 12,
   "metadata": {},
   "outputs": [],
   "source": [
    "class Network(nn.Module):\n",
    "    def __init__(self):\n",
    "        super().__init__()\n",
    "        \n",
    "        # Inputs to hidden layer linear transformation\n",
    "        self.hidden = nn.Linear(784, 256) # creating weights and biases for the input-hidden layers (w1 and b1)\n",
    "        # Output layer, 10 units - one for each digit\n",
    "        self.output = nn.Linear(256, 10)  # creating weights and biases for the hidden-output layers (w2 and b2)\n",
    "        \n",
    "        # Define sigmoid activation and softmax output \n",
    "        self.sigmoid = nn.Sigmoid()\n",
    "        self.softmax = nn.Softmax(dim=1)\n",
    "        \n",
    "    def forward(self, x):\n",
    "        # Pass the input tensor through each of our operations\n",
    "        x = self.hidden(x)\n",
    "        x = self.sigmoid(x)\n",
    "        x = self.output(x)\n",
    "        x = self.softmax(x)\n",
    "        \n",
    "        return x"
   ]
  },
  {
   "cell_type": "markdown",
   "metadata": {},
   "source": [
    "Let's go through this bit by bit.\n",
    "\n",
    "```python\n",
    "class Network(nn.Module):\n",
    "```\n",
    "\n",
    "Here we're inheriting from `nn.Module`. Combined with `super().__init__()` this creates a class that tracks the architecture and provides a lot of useful methods and attributes. It is mandatory to inherit from `nn.Module` when you're creating a class for your network. The name of the class itself can be anything.\n",
    "\n",
    "```python\n",
    "self.hidden = nn.Linear(784, 256)\n",
    "```\n",
    "\n",
    "This line creates a module for a linear transformation, $x\\mathbf{W} + b$, with 784 inputs and 256 outputs and assigns it to `self.hidden`. The module automatically creates the weight and bias tensors which we'll use in the `forward` method. You can access the weight and bias tensors once the network (`net`) is created with `net.hidden.weight` and `net.hidden.bias`.\n",
    "\n",
    "```python\n",
    "self.output = nn.Linear(256, 10)\n",
    "```\n",
    "\n",
    "Similarly, this creates another linear transformation with 256 inputs and 10 outputs.\n",
    "\n",
    "```python\n",
    "self.sigmoid = nn.Sigmoid()\n",
    "self.softmax = nn.Softmax(dim=1)\n",
    "```\n",
    "\n",
    "Here I defined operations for the sigmoid activation and softmax output. Setting `dim=1` in `nn.Softmax(dim=1)` calculates softmax across the columns.\n",
    "\n",
    "```python\n",
    "def forward(self, x):\n",
    "```\n",
    "\n",
    "PyTorch networks created with `nn.Module` must have a `forward` method defined. It takes in a tensor `x` and passes it through the operations you defined in the `__init__` method.\n",
    "\n",
    "```python\n",
    "x = self.hidden(x)\n",
    "x = self.sigmoid(x)\n",
    "x = self.output(x)\n",
    "x = self.softmax(x)\n",
    "```\n",
    "\n",
    "Here the input tensor `x` is passed through each operation a reassigned to `x`. We can see that the input tensor goes through the hidden layer, then a sigmoid function, then the output layer, and finally the softmax function. It doesn't matter what you name the variables here, as long as the inputs and outputs of the operations match the network architecture you want to build. The order in which you define things in the `__init__` method doesn't matter, but you'll need to sequence the operations correctly in the `forward` method.\n",
    "\n",
    "Now we can create a `Network` object."
   ]
  },
  {
   "cell_type": "code",
   "execution_count": 13,
   "metadata": {},
   "outputs": [
    {
     "data": {
      "text/plain": [
       "Network(\n",
       "  (hidden): Linear(in_features=784, out_features=256, bias=True)\n",
       "  (output): Linear(in_features=256, out_features=10, bias=True)\n",
       "  (sigmoid): Sigmoid()\n",
       "  (softmax): Softmax()\n",
       ")"
      ]
     },
     "execution_count": 13,
     "metadata": {},
     "output_type": "execute_result"
    }
   ],
   "source": [
    "# Create the network and look at it's text representation\n",
    "model = Network()\n",
    "model"
   ]
  },
  {
   "cell_type": "markdown",
   "metadata": {},
   "source": [
    "You can define the network somewhat more concisely and clearly using the `torch.nn.functional` module. This is the most common way you'll see networks defined as many operations are simple element-wise functions. We normally import this module as `F`, `import torch.nn.functional as F`."
   ]
  },
  {
   "cell_type": "code",
   "execution_count": 14,
   "metadata": {},
   "outputs": [],
   "source": [
    "import torch.nn.functional as F\n",
    "\n",
    "class Network(nn.Module):\n",
    "    def __init__(self):\n",
    "        super().__init__()\n",
    "        # Inputs to hidden layer linear transformation\n",
    "        self.hidden = nn.Linear(784, 256)\n",
    "        # Output layer, 10 units - one for each digit\n",
    "        self.output = nn.Linear(256, 10)\n",
    "        \n",
    "    def forward(self, x):\n",
    "        # Hidden layer with sigmoid activation\n",
    "        x = F.sigmoid(self.hidden(x))\n",
    "        # Output layer with softmax activation\n",
    "        x = F.softmax(self.output(x), dim=1)\n",
    "        \n",
    "        return x"
   ]
  },
  {
   "cell_type": "markdown",
   "metadata": {},
   "source": [
    "### Activation functions\n",
    "\n",
    "So far we've only been looking at the softmax activation, but in general any function can be used as an activation function. The only requirement is that for a network to approximate a non-linear function, the activation functions must be non-linear. Here are a few more examples of common activation functions: Tanh (hyperbolic tangent), and ReLU (rectified linear unit).\n",
    "\n",
    "<img src=\"assets/activation.png\" width=700px>\n",
    "\n",
    "In practice, the ReLU function is used almost exclusively as the activation function for hidden layers."
   ]
  },
  {
   "cell_type": "markdown",
   "metadata": {},
   "source": [
    "### Your Turn to Build a Network\n",
    "\n",
    "<img src=\"assets/mlp_mnist.png\" width=600px>\n",
    "\n",
    "> **Exercise:** Create a network with 784 input units, a hidden layer with 128 units and a ReLU activation, then a hidden layer with 64 units and a ReLU activation, and finally an output layer with a softmax activation as shown above. You can use a ReLU activation with the `nn.ReLU` module or `F.relu` function."
   ]
  },
  {
   "cell_type": "code",
   "execution_count": 17,
   "metadata": {
    "scrolled": true
   },
   "outputs": [
    {
     "data": {
      "text/plain": [
       "Network(\n",
       "  (hidden_1): Linear(in_features=784, out_features=128, bias=True)\n",
       "  (hidden_2): Linear(in_features=128, out_features=64, bias=True)\n",
       "  (output): Linear(in_features=64, out_features=10, bias=True)\n",
       ")"
      ]
     },
     "execution_count": 17,
     "metadata": {},
     "output_type": "execute_result"
    }
   ],
   "source": [
    "## Your solution here\n",
    "\n",
    "class Network(nn.Module):\n",
    "    def __init__(self):\n",
    "        # Init\n",
    "        super().__init__()\n",
    "        \n",
    "        # Inputs to hidden layer 1: linear transformation 784*128\n",
    "        self.hidden_1 = nn.Linear(784, 128) \n",
    "        # Hidden layer 1 to hidden layer 2: linear transformation 128*64\n",
    "        self.hidden_2 = nn.Linear(128, 64) \n",
    "        # Hidden layer 2 to output layer: linear transformation 64*10\n",
    "        self.output = nn.Linear(64, 10)  \n",
    "    \n",
    "    def forward(self, x):\n",
    "        # Hidden layer 1 with relu activation\n",
    "        x = F.relu(self.hidden_1(x))\n",
    "        # Hidden layer 2 with relu activation\n",
    "        x = F.relu(self.hidden_2(x))\n",
    "        # Output layer with softmax activation\n",
    "        x = F.softmax(self.output(x), dim=1)\n",
    "        \n",
    "        return x\n",
    "\n",
    "model = Network()\n",
    "model\n"
   ]
  },
  {
   "cell_type": "markdown",
   "metadata": {},
   "source": [
    "### Initializing weights and biases\n",
    "\n",
    "The weights and such are automatically initialized for you, but it's possible to customize how they are initialized. The weights and biases are tensors attached to the layer you defined, you can get them with `model.fc1.weight` for instance."
   ]
  },
  {
   "cell_type": "code",
   "execution_count": 19,
   "metadata": {},
   "outputs": [
    {
     "name": "stdout",
     "output_type": "stream",
     "text": [
      "Parameter containing:\n",
      "tensor([[ 0.0291,  0.0169, -0.0059,  ..., -0.0318,  0.0152,  0.0037],\n",
      "        [-0.0233, -0.0063, -0.0235,  ...,  0.0026,  0.0352, -0.0166],\n",
      "        [ 0.0141, -0.0090,  0.0014,  ...,  0.0220, -0.0037,  0.0312],\n",
      "        ...,\n",
      "        [-0.0013,  0.0339,  0.0177,  ..., -0.0078,  0.0069, -0.0239],\n",
      "        [-0.0289,  0.0129, -0.0022,  ...,  0.0128,  0.0038, -0.0247],\n",
      "        [ 0.0065,  0.0318,  0.0353,  ..., -0.0105, -0.0275,  0.0011]],\n",
      "       requires_grad=True)\n",
      "Parameter containing:\n",
      "tensor([-0.0195, -0.0062, -0.0151,  0.0289, -0.0086,  0.0142,  0.0145, -0.0344,\n",
      "         0.0217,  0.0193, -0.0192,  0.0093, -0.0069,  0.0155,  0.0124,  0.0267,\n",
      "        -0.0351, -0.0155,  0.0185, -0.0050,  0.0293, -0.0147,  0.0239,  0.0023,\n",
      "        -0.0064, -0.0269, -0.0085, -0.0229,  0.0248, -0.0343, -0.0356, -0.0152,\n",
      "         0.0346,  0.0179,  0.0024, -0.0346,  0.0286,  0.0043,  0.0047,  0.0325,\n",
      "         0.0034,  0.0061,  0.0270,  0.0283, -0.0128, -0.0251, -0.0030, -0.0322,\n",
      "        -0.0264,  0.0090,  0.0269, -0.0039, -0.0353,  0.0320, -0.0095, -0.0311,\n",
      "         0.0288,  0.0299,  0.0278,  0.0185, -0.0254,  0.0204,  0.0100, -0.0038,\n",
      "         0.0214, -0.0037,  0.0024, -0.0226,  0.0155, -0.0325, -0.0029, -0.0237,\n",
      "         0.0333, -0.0280,  0.0088,  0.0112, -0.0270, -0.0135,  0.0017, -0.0354,\n",
      "        -0.0352,  0.0118, -0.0065, -0.0004, -0.0048,  0.0185,  0.0092,  0.0249,\n",
      "        -0.0120,  0.0345, -0.0008,  0.0088, -0.0053,  0.0355,  0.0313, -0.0288,\n",
      "        -0.0049,  0.0010, -0.0242, -0.0183, -0.0125, -0.0270, -0.0319,  0.0040,\n",
      "         0.0168,  0.0277, -0.0129,  0.0029,  0.0139,  0.0073, -0.0101, -0.0074,\n",
      "        -0.0260,  0.0040, -0.0187, -0.0150,  0.0210, -0.0178,  0.0354,  0.0268,\n",
      "        -0.0244,  0.0266, -0.0196, -0.0064,  0.0093, -0.0292,  0.0106, -0.0307],\n",
      "       requires_grad=True)\n"
     ]
    }
   ],
   "source": [
    "print(model.hidden_1.weight)\n",
    "print(model.hidden_1.bias)"
   ]
  },
  {
   "cell_type": "markdown",
   "metadata": {},
   "source": [
    "For custom initialization, we want to modify these tensors in place. These are actually autograd *Variables*, so we need to get back the actual tensors with `model.fc1.weight.data`. Once we have the tensors, we can fill them with zeros (for biases) or random normal values."
   ]
  },
  {
   "cell_type": "code",
   "execution_count": 20,
   "metadata": {},
   "outputs": [
    {
     "data": {
      "text/plain": [
       "tensor([0., 0., 0., 0., 0., 0., 0., 0., 0., 0., 0., 0., 0., 0., 0., 0., 0., 0., 0., 0., 0., 0., 0., 0.,\n",
       "        0., 0., 0., 0., 0., 0., 0., 0., 0., 0., 0., 0., 0., 0., 0., 0., 0., 0., 0., 0., 0., 0., 0., 0.,\n",
       "        0., 0., 0., 0., 0., 0., 0., 0., 0., 0., 0., 0., 0., 0., 0., 0., 0., 0., 0., 0., 0., 0., 0., 0.,\n",
       "        0., 0., 0., 0., 0., 0., 0., 0., 0., 0., 0., 0., 0., 0., 0., 0., 0., 0., 0., 0., 0., 0., 0., 0.,\n",
       "        0., 0., 0., 0., 0., 0., 0., 0., 0., 0., 0., 0., 0., 0., 0., 0., 0., 0., 0., 0., 0., 0., 0., 0.,\n",
       "        0., 0., 0., 0., 0., 0., 0., 0.])"
      ]
     },
     "execution_count": 20,
     "metadata": {},
     "output_type": "execute_result"
    }
   ],
   "source": [
    "# Set biases to all zeros\n",
    "model.hidden_1.bias.data.fill_(0)"
   ]
  },
  {
   "cell_type": "code",
   "execution_count": 21,
   "metadata": {},
   "outputs": [
    {
     "data": {
      "text/plain": [
       "tensor([[-3.1897e-03, -8.8159e-03, -4.9641e-03,  ..., -1.0862e-02,\n",
       "          1.3373e-05,  8.0224e-03],\n",
       "        [ 1.0263e-02, -2.1746e-02, -1.4305e-02,  ...,  2.2783e-02,\n",
       "          1.1964e-02,  7.7818e-04],\n",
       "        [ 8.0338e-03, -2.2169e-03,  5.2382e-03,  ...,  1.4251e-02,\n",
       "          1.1609e-04,  1.6775e-02],\n",
       "        ...,\n",
       "        [-1.0222e-02, -1.5342e-04, -4.4082e-03,  ..., -1.1476e-02,\n",
       "         -1.4869e-02,  5.4374e-03],\n",
       "        [-7.6859e-03,  1.2947e-02, -6.5690e-03,  ...,  2.1867e-03,\n",
       "         -6.1989e-03,  4.3736e-03],\n",
       "        [ 1.5897e-03,  5.2138e-03,  5.7429e-03,  ..., -7.4001e-03,\n",
       "         -7.8340e-03, -1.5904e-02]])"
      ]
     },
     "execution_count": 21,
     "metadata": {},
     "output_type": "execute_result"
    }
   ],
   "source": [
    "# sample from random normal with standard dev = 0.01\n",
    "model.hidden_1.weight.data.normal_(std=0.01)"
   ]
  },
  {
   "cell_type": "markdown",
   "metadata": {},
   "source": [
    "### Forward pass\n",
    "\n",
    "Now that we have a network, let's see what happens when we pass in an image."
   ]
  },
  {
   "cell_type": "code",
   "execution_count": 22,
   "metadata": {},
   "outputs": [
    {
     "data": {
      "image/png": "[encoded data removed]",
      "text/plain": [
       "<Figure size 432x648 with 2 Axes>"
      ]
     },
     "metadata": {
      "image/png": {
       "height": 226,
       "width": 423
      },
      "needs_background": "light"
     },
     "output_type": "display_data"
    }
   ],
   "source": [
    "# Grab some data \n",
    "dataiter = iter(trainloader)\n",
    "images, labels = dataiter.next()\n",
    "\n",
    "# Resize images into a 1D vector, new shape is (batch size, color channels, image pixels) \n",
    "images.resize_(64, 1, 784)\n",
    "# or images.resize_(images.shape[0], 1, 784) to automatically get batch size\n",
    "\n",
    "# Forward pass through the network\n",
    "img_idx = 0\n",
    "ps = model.forward(images[img_idx,:])\n",
    "\n",
    "img = images[img_idx]\n",
    "helper.view_classify(img.view(1, 28, 28), ps)"
   ]
  },
  {
   "cell_type": "markdown",
   "metadata": {},
   "source": [
    "As you can see above, our network has basically no idea what this digit is. It's because we haven't trained it yet, all the weights are random!\n",
    "\n",
    "### Using `nn.Sequential`\n",
    "\n",
    "PyTorch provides a convenient way to build networks like this where a tensor is passed sequentially through operations, `nn.Sequential` ([documentation](https://pytorch.org/docs/master/nn.html#torch.nn.Sequential)). Using this to build the equivalent network:"
   ]
  },
  {
   "cell_type": "code",
   "execution_count": 23,
   "metadata": {},
   "outputs": [
    {
     "name": "stdout",
     "output_type": "stream",
     "text": [
      "Sequential(\n",
      "  (0): Linear(in_features=784, out_features=128, bias=True)\n",
      "  (1): ReLU()\n",
      "  (2): Linear(in_features=128, out_features=64, bias=True)\n",
      "  (3): ReLU()\n",
      "  (4): Linear(in_features=64, out_features=10, bias=True)\n",
      "  (5): Softmax()\n",
      ")\n"
     ]
    },
    {
     "data": {
      "image/png": "[encoded data removed]",
      "text/plain": [
       "<Figure size 432x648 with 2 Axes>"
      ]
     },
     "metadata": {
      "image/png": {
       "height": 226,
       "width": 423
      },
      "needs_background": "light"
     },
     "output_type": "display_data"
    }
   ],
   "source": [
    "# Hyperparameters for our network\n",
    "input_size = 784\n",
    "hidden_sizes = [128, 64]\n",
    "output_size = 10\n",
    "\n",
    "# Build a feed-forward network\n",
    "model = nn.Sequential(nn.Linear(input_size, hidden_sizes[0]), # 784*128\n",
    "                      nn.ReLU(),\n",
    "                      nn.Linear(hidden_sizes[0], hidden_sizes[1]), # 128*64\n",
    "                      nn.ReLU(),\n",
    "                      nn.Linear(hidden_sizes[1], output_size), # 64*10\n",
    "                      nn.Softmax(dim=1))\n",
    "print(model)\n",
    "\n",
    "# Forward pass through the network and display output\n",
    "images, labels = next(iter(trainloader))\n",
    "images.resize_(images.shape[0], 1, 784)\n",
    "ps = model.forward(images[0,:])\n",
    "helper.view_classify(images[0].view(1, 28, 28), ps)"
   ]
  },
  {
   "cell_type": "markdown",
   "metadata": {},
   "source": [
    "Here our model is the same as before: 784 input units, a hidden layer with 128 units, ReLU activation, 64 unit hidden layer, another ReLU, then the output layer with 10 units, and the softmax output.\n",
    "\n",
    "The operations are availble by passing in the appropriate index. For example, if you want to get first Linear operation and look at the weights, you'd use `model[0]`."
   ]
  },
  {
   "cell_type": "code",
   "execution_count": 24,
   "metadata": {},
   "outputs": [
    {
     "name": "stdout",
     "output_type": "stream",
     "text": [
      "Linear(in_features=784, out_features=128, bias=True)\n"
     ]
    },
    {
     "data": {
      "text/plain": [
       "Parameter containing:\n",
       "tensor([[ 0.0043, -0.0016, -0.0033,  ..., -0.0199, -0.0085,  0.0288],\n",
       "        [ 0.0092, -0.0282, -0.0274,  ...,  0.0217, -0.0040, -0.0226],\n",
       "        [-0.0148, -0.0078,  0.0332,  ...,  0.0099, -0.0231, -0.0213],\n",
       "        ...,\n",
       "        [ 0.0093, -0.0202, -0.0089,  ...,  0.0133, -0.0078,  0.0065],\n",
       "        [-0.0337, -0.0151, -0.0181,  ..., -0.0007,  0.0346,  0.0066],\n",
       "        [-0.0035,  0.0346, -0.0310,  ...,  0.0072, -0.0089,  0.0275]],\n",
       "       requires_grad=True)"
      ]
     },
     "execution_count": 24,
     "metadata": {},
     "output_type": "execute_result"
    }
   ],
   "source": [
    "print(model[0])\n",
    "model[0].weight"
   ]
  },
  {
   "cell_type": "markdown",
   "metadata": {},
   "source": [
    "You can also pass in an `OrderedDict` to name the individual layers and operations, instead of using incremental integers. Note that dictionary keys must be unique, so _each operation must have a different name_."
   ]
  },
  {
   "cell_type": "code",
   "execution_count": 25,
   "metadata": {},
   "outputs": [
    {
     "data": {
      "text/plain": [
       "Sequential(\n",
       "  (fc1): Linear(in_features=784, out_features=128, bias=True)\n",
       "  (relu1): ReLU()\n",
       "  (fc2): Linear(in_features=128, out_features=64, bias=True)\n",
       "  (relu2): ReLU()\n",
       "  (output): Linear(in_features=64, out_features=10, bias=True)\n",
       "  (softmax): Softmax()\n",
       ")"
      ]
     },
     "execution_count": 25,
     "metadata": {},
     "output_type": "execute_result"
    }
   ],
   "source": [
    "from collections import OrderedDict\n",
    "model = nn.Sequential(OrderedDict([\n",
    "                      ('fc1', nn.Linear(input_size, hidden_sizes[0])),\n",
    "                      ('relu1', nn.ReLU()),\n",
    "                      ('fc2', nn.Linear(hidden_sizes[0], hidden_sizes[1])),\n",
    "                      ('relu2', nn.ReLU()),\n",
    "                      ('output', nn.Linear(hidden_sizes[1], output_size)),\n",
    "                      ('softmax', nn.Softmax(dim=1))]))\n",
    "model"
   ]
  },
  {
   "cell_type": "markdown",
   "metadata": {},
   "source": [
    "Now you can access layers either by integer or the name"
   ]
  },
  {
   "cell_type": "code",
   "execution_count": 26,
   "metadata": {},
   "outputs": [
    {
     "name": "stdout",
     "output_type": "stream",
     "text": [
      "Linear(in_features=784, out_features=128, bias=True)\n",
      "Linear(in_features=784, out_features=128, bias=True)\n"
     ]
    }
   ],
   "source": [
    "print(model[0])\n",
    "print(model.fc1)"
   ]
  },
  {
   "cell_type": "markdown",
   "metadata": {},
   "source": [
    "In the next notebook, we'll see how we can train a neural network to accuractly predict the numbers appearing in the MNIST images."
   ]
  }
 ],
 "metadata": {
  "kernelspec": {
   "display_name": "Python 3",
   "language": "python",
   "name": "python3"
  },
  "language_info": {
   "codemirror_mode": {
    "name": "ipython",
    "version": 3
   },
   "file_extension": ".py",
   "mimetype": "text/x-python",
   "name": "python",
   "nbconvert_exporter": "python",
   "pygments_lexer": "ipython3",
   "version": "3.7.3"
  }
 },
 "nbformat": 4,
 "nbformat_minor": 2
}
